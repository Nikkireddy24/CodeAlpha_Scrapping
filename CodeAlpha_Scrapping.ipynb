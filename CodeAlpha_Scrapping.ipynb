{
 "cells": [
  {
   "cell_type": "markdown",
   "id": "fab5fc53",
   "metadata": {},
   "source": [
    "# Task 1: Web Scrapping"
   ]
  },
  {
   "cell_type": "code",
   "execution_count": 11,
   "id": "9091314a",
   "metadata": {},
   "outputs": [],
   "source": [
    "URL = 'https://en.wikipedia.org/wiki/Passengers_of_the_RMS_Titanic'\n",
    "headers = {'User-Agent': 'Mozilla/5.0'}\n",
    "response = requests.get(URL, headers=headers)\n",
    "soup = BeautifulSoup(response.content, 'html.parser')"
   ]
  },
  {
   "cell_type": "code",
   "execution_count": 5,
   "id": "4f73c023",
   "metadata": {},
   "outputs": [],
   "source": [
    "table = soup.find('table', {'class': 'wikitable'})\n",
    "\n",
    "if table is None:\n",
    "    print(\"❌ Table not found. Check the URL or class name.\")\n",
    "    exit()"
   ]
  },
  {
   "cell_type": "code",
   "execution_count": 6,
   "id": "9b25d381",
   "metadata": {},
   "outputs": [],
   "source": [
    "# Extract header cells (th)\n",
    "header_row = table.find('tr')\n",
    "headers = [header.get_text(strip=True) for header in header_row.find_all(['th', 'td'])]"
   ]
  },
  {
   "cell_type": "code",
   "execution_count": 7,
   "id": "e0dbde7c",
   "metadata": {},
   "outputs": [],
   "source": [
    "# Extract all rows\n",
    "rows = table.find_all('tr')"
   ]
  },
  {
   "cell_type": "code",
   "execution_count": 9,
   "id": "407e50ca",
   "metadata": {},
   "outputs": [],
   "source": [
    "data = []\n",
    "for row in rows[1:]:\n",
    "    cols = row.find_all(['th', 'td'])\n",
    "    cols = [col.get_text(strip=True) for col in cols]\n",
    "    data.append(cols)"
   ]
  },
  {
   "cell_type": "code",
   "execution_count": 10,
   "id": "2f76bf77",
   "metadata": {},
   "outputs": [
    {
     "name": "stdout",
     "output_type": "stream",
     "text": [
      "✅ Titanic passenger data scraped, CSV and HTML report generated.\n"
     ]
    }
   ],
   "source": [
    "df = pd.DataFrame(data, columns=headers)\n",
    "\n",
    "df.to_csv('titanic_passengers_scraped.csv', index=False)\n",
    "\n",
    "html_table = df.to_html(index=False)\n",
    "\n",
    "html_report = f\"\"\"\n",
    "<!DOCTYPE html>\n",
    "<html>\n",
    "<head>\n",
    "    <title>Titanic Passengers Report</title>\n",
    "    <style>\n",
    "        body {{\n",
    "            font-family: Arial, sans-serif;\n",
    "            margin: 40px;\n",
    "        }}\n",
    "        h1 {{\n",
    "            color: #2E86C1;\n",
    "        }}\n",
    "        table {{\n",
    "            border-collapse: collapse;\n",
    "            width: 100%;\n",
    "        }}\n",
    "        th, td {{\n",
    "            border: 1px solid #ddd;\n",
    "            padding: 8px;\n",
    "        }}\n",
    "        th {{\n",
    "            background-color: #2E86C1;\n",
    "            color: white;\n",
    "        }}\n",
    "        tr:nth-child(even) {{background-color: #f2f2f2;}}\n",
    "    </style>\n",
    "</head>\n",
    "<body>\n",
    "    <h1>Titanic Passengers Report</h1>\n",
    "    {html_table}\n",
    "</body>\n",
    "</html>\n",
    "\"\"\"\n",
    "\n",
    "with open('titanic_report.html', 'w', encoding='utf-8') as f:\n",
    "    f.write(html_report)\n",
    "\n",
    "print(\"✅ Titanic passenger data scraped, CSV and HTML report generated.\")\n"
   ]
  },
  {
   "cell_type": "code",
   "execution_count": null,
   "id": "195b594a",
   "metadata": {},
   "outputs": [],
   "source": []
  }
 ],
 "metadata": {
  "kernelspec": {
   "display_name": "Python 3 (ipykernel)",
   "language": "python",
   "name": "python3"
  },
  "language_info": {
   "codemirror_mode": {
    "name": "ipython",
    "version": 3
   },
   "file_extension": ".py",
   "mimetype": "text/x-python",
   "name": "python",
   "nbconvert_exporter": "python",
   "pygments_lexer": "ipython3",
   "version": "3.11.4"
  }
 },
 "nbformat": 4,
 "nbformat_minor": 5
}
